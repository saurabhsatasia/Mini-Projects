{
 "cells": [
  {
   "cell_type": "code",
   "execution_count": 226,
   "metadata": {},
   "outputs": [],
   "source": [
    "import pandas as pd\n",
    "import numpy as np"
   ]
  },
  {
   "cell_type": "code",
   "execution_count": 227,
   "metadata": {},
   "outputs": [
    {
     "data": {
      "text/html": [
       "<div>\n",
       "<style scoped>\n",
       "    .dataframe tbody tr th:only-of-type {\n",
       "        vertical-align: middle;\n",
       "    }\n",
       "\n",
       "    .dataframe tbody tr th {\n",
       "        vertical-align: top;\n",
       "    }\n",
       "\n",
       "    .dataframe thead th {\n",
       "        text-align: right;\n",
       "    }\n",
       "</style>\n",
       "<table border=\"1\" class=\"dataframe\">\n",
       "  <thead>\n",
       "    <tr style=\"text-align: right;\">\n",
       "      <th></th>\n",
       "      <th>Job Title</th>\n",
       "      <th>Salary Estimate</th>\n",
       "      <th>Job Description</th>\n",
       "      <th>Rating</th>\n",
       "      <th>Company Name</th>\n",
       "      <th>Location</th>\n",
       "      <th>Headquarters</th>\n",
       "      <th>Size</th>\n",
       "      <th>Founded</th>\n",
       "      <th>Type of ownership</th>\n",
       "      <th>Industry</th>\n",
       "      <th>Sector</th>\n",
       "      <th>Revenue</th>\n",
       "      <th>Competitors</th>\n",
       "    </tr>\n",
       "  </thead>\n",
       "  <tbody>\n",
       "    <tr>\n",
       "      <th>0</th>\n",
       "      <td>Data Science</td>\n",
       "      <td>£24K - £38K (Glassdoor est.)</td>\n",
       "      <td>Love using technology to solve complex problem...</td>\n",
       "      <td>4.1</td>\n",
       "      <td>MThree Consulting\\n4.1</td>\n",
       "      <td>London, England</td>\n",
       "      <td>-1</td>\n",
       "      <td>501 to 1000 Employees</td>\n",
       "      <td>2010</td>\n",
       "      <td>Company - Private</td>\n",
       "      <td>IT Services</td>\n",
       "      <td>Information Technology</td>\n",
       "      <td>Unknown / Non-Applicable</td>\n",
       "      <td>-1</td>\n",
       "    </tr>\n",
       "    <tr>\n",
       "      <th>1</th>\n",
       "      <td>Data Science Graduate Scheme</td>\n",
       "      <td>£24K - £38K (Glassdoor est.)</td>\n",
       "      <td>Salary and Benefits: £24,500 + pension + 25 da...</td>\n",
       "      <td>3.6</td>\n",
       "      <td>Yorkshire Water\\n3.6</td>\n",
       "      <td>Bradford, Yorkshire and the Humber, England</td>\n",
       "      <td>-1</td>\n",
       "      <td>1001 to 5000 Employees</td>\n",
       "      <td>1973</td>\n",
       "      <td>Company - Private</td>\n",
       "      <td>Utilities</td>\n",
       "      <td>Oil, Gas, Energy &amp; Utilities</td>\n",
       "      <td>$500 million to $1 billion (USD)</td>\n",
       "      <td>-1</td>\n",
       "    </tr>\n",
       "    <tr>\n",
       "      <th>2</th>\n",
       "      <td>Data Engineer</td>\n",
       "      <td>£24K - £38K (Glassdoor est.)</td>\n",
       "      <td>Job Description\\n\\nData Engineer\\n\\nAt Citadel...</td>\n",
       "      <td>4.3</td>\n",
       "      <td>Citadel\\n4.3</td>\n",
       "      <td>London, England</td>\n",
       "      <td>-1</td>\n",
       "      <td>1001 to 5000 Employees</td>\n",
       "      <td>1990</td>\n",
       "      <td>Company - Private</td>\n",
       "      <td>-1</td>\n",
       "      <td>-1</td>\n",
       "      <td>$50 to $100 million (USD)</td>\n",
       "      <td>-1</td>\n",
       "    </tr>\n",
       "    <tr>\n",
       "      <th>3</th>\n",
       "      <td>Data Scientist (Investigations)</td>\n",
       "      <td>£24K - £38K (Glassdoor est.)</td>\n",
       "      <td>Who are we?\\n\\nHi! �� We are Ravelin! We're a ...</td>\n",
       "      <td>4.8</td>\n",
       "      <td>Ravelin\\n4.8</td>\n",
       "      <td>London, England</td>\n",
       "      <td>-1</td>\n",
       "      <td>51 to 200 Employees</td>\n",
       "      <td>2014</td>\n",
       "      <td>Company - Private</td>\n",
       "      <td>Enterprise Software &amp; Network Solutions</td>\n",
       "      <td>Information Technology</td>\n",
       "      <td>$5 to $10 million (USD)</td>\n",
       "      <td>-1</td>\n",
       "    </tr>\n",
       "    <tr>\n",
       "      <th>4</th>\n",
       "      <td>Data/Marketing Analyst</td>\n",
       "      <td>£24K - £38K (Glassdoor est.)</td>\n",
       "      <td>Data / Marketing Analyst\\n\\nThe Marketing team...</td>\n",
       "      <td>4.6</td>\n",
       "      <td>gohenry Ltd\\n4.6</td>\n",
       "      <td>London, England</td>\n",
       "      <td>-1</td>\n",
       "      <td>51 to 200 Employees</td>\n",
       "      <td>2012</td>\n",
       "      <td>Company - Private</td>\n",
       "      <td>Investment Banking &amp; Asset Management</td>\n",
       "      <td>Finance</td>\n",
       "      <td>$10 to $25 million (USD)</td>\n",
       "      <td>-1</td>\n",
       "    </tr>\n",
       "  </tbody>\n",
       "</table>\n",
       "</div>"
      ],
      "text/plain": [
       "                         Job Title               Salary Estimate  \\\n",
       "0                     Data Science  £24K - £38K (Glassdoor est.)   \n",
       "1     Data Science Graduate Scheme  £24K - £38K (Glassdoor est.)   \n",
       "2                    Data Engineer  £24K - £38K (Glassdoor est.)   \n",
       "3  Data Scientist (Investigations)  £24K - £38K (Glassdoor est.)   \n",
       "4           Data/Marketing Analyst  £24K - £38K (Glassdoor est.)   \n",
       "\n",
       "                                     Job Description  Rating  \\\n",
       "0  Love using technology to solve complex problem...     4.1   \n",
       "1  Salary and Benefits: £24,500 + pension + 25 da...     3.6   \n",
       "2  Job Description\\n\\nData Engineer\\n\\nAt Citadel...     4.3   \n",
       "3  Who are we?\\n\\nHi! �� We are Ravelin! We're a ...     4.8   \n",
       "4  Data / Marketing Analyst\\n\\nThe Marketing team...     4.6   \n",
       "\n",
       "             Company Name                                     Location  \\\n",
       "0  MThree Consulting\\n4.1                              London, England   \n",
       "1    Yorkshire Water\\n3.6  Bradford, Yorkshire and the Humber, England   \n",
       "2            Citadel\\n4.3                              London, England   \n",
       "3            Ravelin\\n4.8                              London, England   \n",
       "4        gohenry Ltd\\n4.6                              London, England   \n",
       "\n",
       "   Headquarters                    Size  Founded  Type of ownership  \\\n",
       "0            -1   501 to 1000 Employees     2010  Company - Private   \n",
       "1            -1  1001 to 5000 Employees     1973  Company - Private   \n",
       "2            -1  1001 to 5000 Employees     1990  Company - Private   \n",
       "3            -1     51 to 200 Employees     2014  Company - Private   \n",
       "4            -1     51 to 200 Employees     2012  Company - Private   \n",
       "\n",
       "                                  Industry                        Sector  \\\n",
       "0                              IT Services        Information Technology   \n",
       "1                                Utilities  Oil, Gas, Energy & Utilities   \n",
       "2                                       -1                            -1   \n",
       "3  Enterprise Software & Network Solutions        Information Technology   \n",
       "4    Investment Banking & Asset Management                       Finance   \n",
       "\n",
       "                            Revenue  Competitors  \n",
       "0          Unknown / Non-Applicable           -1  \n",
       "1  $500 million to $1 billion (USD)           -1  \n",
       "2         $50 to $100 million (USD)           -1  \n",
       "3           $5 to $10 million (USD)           -1  \n",
       "4          $10 to $25 million (USD)           -1  "
      ]
     },
     "execution_count": 227,
     "metadata": {},
     "output_type": "execute_result"
    }
   ],
   "source": [
    "df = pd.read_csv(\"scrapper/UK_raw_data.csv\")\n",
    "df.head()"
   ]
  },
  {
   "cell_type": "code",
   "execution_count": 228,
   "metadata": {},
   "outputs": [],
   "source": [
    "df.shape\n",
    "df.drop_duplicates(inplace=True)"
   ]
  },
  {
   "cell_type": "code",
   "execution_count": 229,
   "metadata": {},
   "outputs": [
    {
     "name": "stdout",
     "output_type": "stream",
     "text": [
      "<class 'pandas.core.frame.DataFrame'>\n",
      "Int64Index: 880 entries, 0 to 932\n",
      "Data columns (total 14 columns):\n",
      "Job Title            880 non-null object\n",
      "Salary Estimate      880 non-null object\n",
      "Job Description      880 non-null object\n",
      "Rating               880 non-null float64\n",
      "Company Name         880 non-null object\n",
      "Location             880 non-null object\n",
      "Headquarters         880 non-null int64\n",
      "Size                 880 non-null object\n",
      "Founded              880 non-null int64\n",
      "Type of ownership    880 non-null object\n",
      "Industry             880 non-null object\n",
      "Sector               880 non-null object\n",
      "Revenue              880 non-null object\n",
      "Competitors          880 non-null int64\n",
      "dtypes: float64(1), int64(3), object(10)\n",
      "memory usage: 103.1+ KB\n"
     ]
    }
   ],
   "source": [
    "df.info()"
   ]
  },
  {
   "cell_type": "markdown",
   "metadata": {},
   "source": [
    "#### 1. Salary Estimate Parsing"
   ]
  },
  {
   "cell_type": "code",
   "execution_count": 230,
   "metadata": {},
   "outputs": [
    {
     "name": "stdout",
     "output_type": "stream",
     "text": [
      "£24K - £38K \n",
      "24 - 38 \n"
     ]
    }
   ],
   "source": [
    "# df['hourly'] = df['Salary Estimate'].apply(lambda x : 1 if 'per hour' in x.lower() else 0)\n",
    "# df['hourly'].value_counts() --> NO Hourly Salaries in this dateset\n",
    "# df['employer provided'] = df['Salary Estimate'].apply(lambda x: 1 if 'employer provided salary:' in x.lower() else 0)\n",
    "# df['employer provided']. value_counts() --> NO such data\n",
    "\n",
    "df = df[df['Salary Estimate'] != '-1'] \n",
    "salary = df['Salary Estimate'].apply(lambda x:x.split(\"(\")[0])\n",
    "remove_symbols = salary.apply(lambda x: x.replace('K','').replace('£',''))\n",
    "print(salary[0])\n",
    "print(remove_symbols[0])"
   ]
  },
  {
   "cell_type": "code",
   "execution_count": 231,
   "metadata": {},
   "outputs": [
    {
     "name": "stdout",
     "output_type": "stream",
     "text": [
      "24\n",
      "38\n"
     ]
    }
   ],
   "source": [
    "df['min_salary'] = remove_symbols.apply(lambda x: int(x.split('-')[0]))\n",
    "print(df['min_salary'][0])\n",
    "df['max_salary'] = remove_symbols.apply(lambda x: int(x.split('-')[1]))\n",
    "print(df['max_salary'][0])\n",
    "df['avg_salary'] = (df['min_salary'] + df['max_salary']) / 2"
   ]
  },
  {
   "cell_type": "markdown",
   "metadata": {},
   "source": [
    "#### 2. Company Name"
   ]
  },
  {
   "cell_type": "code",
   "execution_count": 232,
   "metadata": {},
   "outputs": [
    {
     "name": "stdout",
     "output_type": "stream",
     "text": [
      "0    MThree Consulting\n",
      "1      Yorkshire Water\n",
      "Name: Company Name, dtype: object\n"
     ]
    }
   ],
   "source": [
    "df['Company Name'] = df.apply(lambda x: x['Company Name'] if x['Rating']<0 else x['Company Name'].split('\\n')[0], axis=1)\n",
    "print(df['Company Name'][0:2])"
   ]
  },
  {
   "cell_type": "code",
   "execution_count": 233,
   "metadata": {},
   "outputs": [],
   "source": [
    "df.drop(['Headquarters', 'Competitors'], axis=1, inplace=True)"
   ]
  },
  {
   "cell_type": "code",
   "execution_count": 234,
   "metadata": {},
   "outputs": [
    {
     "data": {
      "text/html": [
       "<div>\n",
       "<style scoped>\n",
       "    .dataframe tbody tr th:only-of-type {\n",
       "        vertical-align: middle;\n",
       "    }\n",
       "\n",
       "    .dataframe tbody tr th {\n",
       "        vertical-align: top;\n",
       "    }\n",
       "\n",
       "    .dataframe thead th {\n",
       "        text-align: right;\n",
       "    }\n",
       "</style>\n",
       "<table border=\"1\" class=\"dataframe\">\n",
       "  <thead>\n",
       "    <tr style=\"text-align: right;\">\n",
       "      <th></th>\n",
       "      <th>Job Title</th>\n",
       "      <th>Salary Estimate</th>\n",
       "      <th>Job Description</th>\n",
       "      <th>Rating</th>\n",
       "      <th>Company Name</th>\n",
       "      <th>Location</th>\n",
       "      <th>Size</th>\n",
       "      <th>Founded</th>\n",
       "      <th>Type of ownership</th>\n",
       "      <th>Industry</th>\n",
       "      <th>Sector</th>\n",
       "      <th>Revenue</th>\n",
       "      <th>min_salary</th>\n",
       "      <th>max_salary</th>\n",
       "      <th>avg_salary</th>\n",
       "    </tr>\n",
       "  </thead>\n",
       "  <tbody>\n",
       "    <tr>\n",
       "      <th>0</th>\n",
       "      <td>Data Science</td>\n",
       "      <td>£24K - £38K (Glassdoor est.)</td>\n",
       "      <td>Love using technology to solve complex problem...</td>\n",
       "      <td>4.1</td>\n",
       "      <td>MThree Consulting</td>\n",
       "      <td>London, England</td>\n",
       "      <td>501 to 1000 Employees</td>\n",
       "      <td>2010</td>\n",
       "      <td>Company - Private</td>\n",
       "      <td>IT Services</td>\n",
       "      <td>Information Technology</td>\n",
       "      <td>Unknown / Non-Applicable</td>\n",
       "      <td>24</td>\n",
       "      <td>38</td>\n",
       "      <td>31.0</td>\n",
       "    </tr>\n",
       "  </tbody>\n",
       "</table>\n",
       "</div>"
      ],
      "text/plain": [
       "      Job Title               Salary Estimate  \\\n",
       "0  Data Science  £24K - £38K (Glassdoor est.)   \n",
       "\n",
       "                                     Job Description  Rating  \\\n",
       "0  Love using technology to solve complex problem...     4.1   \n",
       "\n",
       "        Company Name         Location                   Size  Founded  \\\n",
       "0  MThree Consulting  London, England  501 to 1000 Employees     2010   \n",
       "\n",
       "   Type of ownership     Industry                  Sector  \\\n",
       "0  Company - Private  IT Services  Information Technology   \n",
       "\n",
       "                    Revenue  min_salary  max_salary  avg_salary  \n",
       "0  Unknown / Non-Applicable          24          38        31.0  "
      ]
     },
     "execution_count": 234,
     "metadata": {},
     "output_type": "execute_result"
    }
   ],
   "source": [
    "df.head(1)"
   ]
  },
  {
   "cell_type": "markdown",
   "metadata": {},
   "source": [
    "#### 3. Job Description"
   ]
  },
  {
   "cell_type": "code",
   "execution_count": 235,
   "metadata": {},
   "outputs": [
    {
     "name": "stdout",
     "output_type": "stream",
     "text": [
      "0    693\n",
      "1    187\n",
      "Name: python, dtype: int64\n",
      "0    694\n",
      "1    186\n",
      "Name: sql, dtype: int64\n",
      "0    879\n",
      "1      1\n",
      "Name: r_studio, dtype: int64\n",
      "0    839\n",
      "1     41\n",
      "Name: spark, dtype: int64\n",
      "0    790\n",
      "1     90\n",
      "Name: aws, dtype: int64\n"
     ]
    },
    {
     "data": {
      "text/plain": [
       "1    548\n",
       "0    332\n",
       "Name: excel, dtype: int64"
      ]
     },
     "execution_count": 235,
     "metadata": {},
     "output_type": "execute_result"
    }
   ],
   "source": [
    "df['python'] = df['Job Description'].apply(lambda x: 1 if 'python' in x.lower() else 0)\n",
    "print(df['python'].value_counts())\n",
    "\n",
    "df['sql'] = df['Job Description'].apply(lambda x: 1 if 'sql' in x.lower() else 0)\n",
    "print(df['sql'].value_counts())\n",
    "\n",
    "df['r_studio'] = df['Job Description'].apply(lambda x: 1 if 'r studio' in x.lower() or 'r-studio' in x.lower() else 0)\n",
    "print(df['r_studio'].value_counts())\n",
    "\n",
    "df['spark'] = df['Job Description'].apply(lambda x: 1 if 'spark' in x.lower() else 0)\n",
    "print(df['spark'].value_counts())\n",
    "\n",
    "df['aws'] = df['Job Description'].apply(lambda x: 1 if 'aws' in x.lower() else 0)\n",
    "print(df['aws'].value_counts())\n",
    "\n",
    "df['excel'] = df['Job Description'].apply(lambda x: 1 if 'excel' in x.lower() else 0)\n",
    "df.excel.value_counts()"
   ]
  },
  {
   "cell_type": "code",
   "execution_count": 236,
   "metadata": {},
   "outputs": [
    {
     "data": {
      "text/plain": [
       "0    3098\n",
       "1    3750\n",
       "2    2899\n",
       "3    3388\n",
       "4    3376\n",
       "Name: description_len, dtype: int64"
      ]
     },
     "execution_count": 236,
     "metadata": {},
     "output_type": "execute_result"
    }
   ],
   "source": [
    "# Job description length\n",
    "df['description_len'] = df['Job Description'].apply(lambda x: len(x))\n",
    "df['description_len'][0:5]"
   ]
  },
  {
   "cell_type": "markdown",
   "metadata": {},
   "source": [
    "#### 4. Founded --> age"
   ]
  },
  {
   "cell_type": "code",
   "execution_count": 237,
   "metadata": {},
   "outputs": [
    {
     "data": {
      "text/plain": [
       "0    11\n",
       "1    48\n",
       "2    31\n",
       "3     7\n",
       "4     9\n",
       "Name: age, dtype: int64"
      ]
     },
     "execution_count": 237,
     "metadata": {},
     "output_type": "execute_result"
    }
   ],
   "source": [
    "df['age'] = df['Founded'].apply(lambda x: x if x<1 else 2021-x)\n",
    "df['age'][0:5]"
   ]
  },
  {
   "cell_type": "markdown",
   "metadata": {},
   "source": [
    "#### 5. Size --> employees"
   ]
  },
  {
   "cell_type": "code",
   "execution_count": 238,
   "metadata": {},
   "outputs": [
    {
     "data": {
      "text/plain": [
       "10000+ Employees           279\n",
       "1001 to 5000 Employees     149\n",
       "51 to 200 Employees        122\n",
       "1 to 50 Employees           97\n",
       "-1                          70\n",
       "5001 to 10000 Employees     60\n",
       "201 to 500 Employees        45\n",
       "501 to 1000 Employees       35\n",
       "Unknown                     23\n",
       "Name: Size, dtype: int64"
      ]
     },
     "execution_count": 238,
     "metadata": {},
     "output_type": "execute_result"
    }
   ],
   "source": [
    "df['Size'].value_counts()"
   ]
  },
  {
   "cell_type": "markdown",
   "metadata": {},
   "source": [
    "#### 6. Job Title"
   ]
  },
  {
   "cell_type": "code",
   "execution_count": 239,
   "metadata": {},
   "outputs": [],
   "source": [
    "def title_simplifier(title):\n",
    "    if 'data scientist' in title.lower(): return 'data scientist'\n",
    "    elif 'data engineer' in title.lower(): return 'data engineer'\n",
    "    elif 'analyst' in title.lower(): return 'analyst'\n",
    "    elif 'machine learning' in title.lower(): return 'mle'\n",
    "    elif 'manager' in title.lower(): return 'manager'\n",
    "    elif 'director' in title.lower(): return 'director'\n",
    "    elif 'consultant' in title.lower(): return 'consultant'\n",
    "    elif 'researcher' in title.lower(): return 'ai researcher'\n",
    "    else: return 'na'\n",
    "\n",
    "def seniority(title):\n",
    "    if 'sr' in title.lower() or 'senior' in title.lower() or 'sr' in title.lower() or 'lead' in title.lower() or 'principal' in title.lower():\n",
    "        return 'senior'\n",
    "    elif 'jr' in title.lower() or 'jr.' in title.lower() or 'junior' in title.lower():\n",
    "        return 'junior'\n",
    "    else:\n",
    "        return 'na'\n",
    "    "
   ]
  },
  {
   "cell_type": "code",
   "execution_count": 240,
   "metadata": {},
   "outputs": [
    {
     "name": "stdout",
     "output_type": "stream",
     "text": [
      "na                425\n",
      "manager           172\n",
      "director           88\n",
      "analyst            82\n",
      "data scientist     59\n",
      "ai researcher      22\n",
      "consultant         19\n",
      "data engineer      12\n",
      "mle                 1\n",
      "Name: job_title, dtype: int64\n",
      "na        676\n",
      "senior    204\n",
      "Name: seniority, dtype: int64\n"
     ]
    }
   ],
   "source": [
    "df['job_title'] = df['Job Title'].apply(title_simplifier)\n",
    "print(df['job_title'].value_counts())\n",
    "\n",
    "df['seniority'] = df['Job Title'].apply(seniority)\n",
    "print(df['seniority'].value_counts())"
   ]
  },
  {
   "cell_type": "code",
   "execution_count": 241,
   "metadata": {},
   "outputs": [
    {
     "data": {
      "text/html": [
       "<div>\n",
       "<style scoped>\n",
       "    .dataframe tbody tr th:only-of-type {\n",
       "        vertical-align: middle;\n",
       "    }\n",
       "\n",
       "    .dataframe tbody tr th {\n",
       "        vertical-align: top;\n",
       "    }\n",
       "\n",
       "    .dataframe thead th {\n",
       "        text-align: right;\n",
       "    }\n",
       "</style>\n",
       "<table border=\"1\" class=\"dataframe\">\n",
       "  <thead>\n",
       "    <tr style=\"text-align: right;\">\n",
       "      <th></th>\n",
       "      <th>Job Title</th>\n",
       "      <th>Salary Estimate</th>\n",
       "      <th>Job Description</th>\n",
       "      <th>Rating</th>\n",
       "      <th>Company Name</th>\n",
       "      <th>Location</th>\n",
       "      <th>Size</th>\n",
       "      <th>Founded</th>\n",
       "      <th>Type of ownership</th>\n",
       "      <th>Industry</th>\n",
       "      <th>...</th>\n",
       "      <th>python</th>\n",
       "      <th>sql</th>\n",
       "      <th>r_studio</th>\n",
       "      <th>spark</th>\n",
       "      <th>aws</th>\n",
       "      <th>excel</th>\n",
       "      <th>description_len</th>\n",
       "      <th>age</th>\n",
       "      <th>job_title</th>\n",
       "      <th>seniority</th>\n",
       "    </tr>\n",
       "  </thead>\n",
       "  <tbody>\n",
       "    <tr>\n",
       "      <th>0</th>\n",
       "      <td>Data Science</td>\n",
       "      <td>£24K - £38K (Glassdoor est.)</td>\n",
       "      <td>Love using technology to solve complex problem...</td>\n",
       "      <td>4.1</td>\n",
       "      <td>MThree Consulting</td>\n",
       "      <td>London, England</td>\n",
       "      <td>501 to 1000 Employees</td>\n",
       "      <td>2010</td>\n",
       "      <td>Company - Private</td>\n",
       "      <td>IT Services</td>\n",
       "      <td>...</td>\n",
       "      <td>1</td>\n",
       "      <td>0</td>\n",
       "      <td>0</td>\n",
       "      <td>0</td>\n",
       "      <td>0</td>\n",
       "      <td>0</td>\n",
       "      <td>3098</td>\n",
       "      <td>11</td>\n",
       "      <td>na</td>\n",
       "      <td>na</td>\n",
       "    </tr>\n",
       "    <tr>\n",
       "      <th>1</th>\n",
       "      <td>Data Science Graduate Scheme</td>\n",
       "      <td>£24K - £38K (Glassdoor est.)</td>\n",
       "      <td>Salary and Benefits: £24,500 + pension + 25 da...</td>\n",
       "      <td>3.6</td>\n",
       "      <td>Yorkshire Water</td>\n",
       "      <td>Bradford, Yorkshire and the Humber, England</td>\n",
       "      <td>1001 to 5000 Employees</td>\n",
       "      <td>1973</td>\n",
       "      <td>Company - Private</td>\n",
       "      <td>Utilities</td>\n",
       "      <td>...</td>\n",
       "      <td>0</td>\n",
       "      <td>0</td>\n",
       "      <td>0</td>\n",
       "      <td>0</td>\n",
       "      <td>0</td>\n",
       "      <td>0</td>\n",
       "      <td>3750</td>\n",
       "      <td>48</td>\n",
       "      <td>na</td>\n",
       "      <td>na</td>\n",
       "    </tr>\n",
       "    <tr>\n",
       "      <th>2</th>\n",
       "      <td>Data Engineer</td>\n",
       "      <td>£24K - £38K (Glassdoor est.)</td>\n",
       "      <td>Job Description\\n\\nData Engineer\\n\\nAt Citadel...</td>\n",
       "      <td>4.3</td>\n",
       "      <td>Citadel</td>\n",
       "      <td>London, England</td>\n",
       "      <td>1001 to 5000 Employees</td>\n",
       "      <td>1990</td>\n",
       "      <td>Company - Private</td>\n",
       "      <td>-1</td>\n",
       "      <td>...</td>\n",
       "      <td>1</td>\n",
       "      <td>1</td>\n",
       "      <td>0</td>\n",
       "      <td>1</td>\n",
       "      <td>1</td>\n",
       "      <td>0</td>\n",
       "      <td>2899</td>\n",
       "      <td>31</td>\n",
       "      <td>data engineer</td>\n",
       "      <td>na</td>\n",
       "    </tr>\n",
       "    <tr>\n",
       "      <th>3</th>\n",
       "      <td>Data Scientist (Investigations)</td>\n",
       "      <td>£24K - £38K (Glassdoor est.)</td>\n",
       "      <td>Who are we?\\n\\nHi! �� We are Ravelin! We're a ...</td>\n",
       "      <td>4.8</td>\n",
       "      <td>Ravelin</td>\n",
       "      <td>London, England</td>\n",
       "      <td>51 to 200 Employees</td>\n",
       "      <td>2014</td>\n",
       "      <td>Company - Private</td>\n",
       "      <td>Enterprise Software &amp; Network Solutions</td>\n",
       "      <td>...</td>\n",
       "      <td>0</td>\n",
       "      <td>1</td>\n",
       "      <td>0</td>\n",
       "      <td>0</td>\n",
       "      <td>0</td>\n",
       "      <td>0</td>\n",
       "      <td>3388</td>\n",
       "      <td>7</td>\n",
       "      <td>data scientist</td>\n",
       "      <td>na</td>\n",
       "    </tr>\n",
       "    <tr>\n",
       "      <th>4</th>\n",
       "      <td>Data/Marketing Analyst</td>\n",
       "      <td>£24K - £38K (Glassdoor est.)</td>\n",
       "      <td>Data / Marketing Analyst\\n\\nThe Marketing team...</td>\n",
       "      <td>4.6</td>\n",
       "      <td>gohenry Ltd</td>\n",
       "      <td>London, England</td>\n",
       "      <td>51 to 200 Employees</td>\n",
       "      <td>2012</td>\n",
       "      <td>Company - Private</td>\n",
       "      <td>Investment Banking &amp; Asset Management</td>\n",
       "      <td>...</td>\n",
       "      <td>0</td>\n",
       "      <td>1</td>\n",
       "      <td>0</td>\n",
       "      <td>0</td>\n",
       "      <td>0</td>\n",
       "      <td>1</td>\n",
       "      <td>3376</td>\n",
       "      <td>9</td>\n",
       "      <td>analyst</td>\n",
       "      <td>na</td>\n",
       "    </tr>\n",
       "  </tbody>\n",
       "</table>\n",
       "<p>5 rows × 25 columns</p>\n",
       "</div>"
      ],
      "text/plain": [
       "                         Job Title               Salary Estimate  \\\n",
       "0                     Data Science  £24K - £38K (Glassdoor est.)   \n",
       "1     Data Science Graduate Scheme  £24K - £38K (Glassdoor est.)   \n",
       "2                    Data Engineer  £24K - £38K (Glassdoor est.)   \n",
       "3  Data Scientist (Investigations)  £24K - £38K (Glassdoor est.)   \n",
       "4           Data/Marketing Analyst  £24K - £38K (Glassdoor est.)   \n",
       "\n",
       "                                     Job Description  Rating  \\\n",
       "0  Love using technology to solve complex problem...     4.1   \n",
       "1  Salary and Benefits: £24,500 + pension + 25 da...     3.6   \n",
       "2  Job Description\\n\\nData Engineer\\n\\nAt Citadel...     4.3   \n",
       "3  Who are we?\\n\\nHi! �� We are Ravelin! We're a ...     4.8   \n",
       "4  Data / Marketing Analyst\\n\\nThe Marketing team...     4.6   \n",
       "\n",
       "        Company Name                                     Location  \\\n",
       "0  MThree Consulting                              London, England   \n",
       "1    Yorkshire Water  Bradford, Yorkshire and the Humber, England   \n",
       "2            Citadel                              London, England   \n",
       "3            Ravelin                              London, England   \n",
       "4        gohenry Ltd                              London, England   \n",
       "\n",
       "                     Size  Founded  Type of ownership  \\\n",
       "0   501 to 1000 Employees     2010  Company - Private   \n",
       "1  1001 to 5000 Employees     1973  Company - Private   \n",
       "2  1001 to 5000 Employees     1990  Company - Private   \n",
       "3     51 to 200 Employees     2014  Company - Private   \n",
       "4     51 to 200 Employees     2012  Company - Private   \n",
       "\n",
       "                                  Industry  ... python sql  r_studio  spark  \\\n",
       "0                              IT Services  ...      1   0         0      0   \n",
       "1                                Utilities  ...      0   0         0      0   \n",
       "2                                       -1  ...      1   1         0      1   \n",
       "3  Enterprise Software & Network Solutions  ...      0   1         0      0   \n",
       "4    Investment Banking & Asset Management  ...      0   1         0      0   \n",
       "\n",
       "   aws  excel  description_len  age       job_title  seniority  \n",
       "0    0      0             3098   11              na         na  \n",
       "1    0      0             3750   48              na         na  \n",
       "2    1      0             2899   31   data engineer         na  \n",
       "3    0      0             3388    7  data scientist         na  \n",
       "4    0      1             3376    9         analyst         na  \n",
       "\n",
       "[5 rows x 25 columns]"
      ]
     },
     "execution_count": 241,
     "metadata": {},
     "output_type": "execute_result"
    }
   ],
   "source": [
    "df.head()"
   ]
  },
  {
   "cell_type": "markdown",
   "metadata": {},
   "source": [
    "#### 7. Industry"
   ]
  },
  {
   "cell_type": "code",
   "execution_count": 242,
   "metadata": {},
   "outputs": [
    {
     "data": {
      "text/plain": [
       "array(['IT Services', 'Utilities', '-1',\n",
       "       'Enterprise Software & Network Solutions',\n",
       "       'Investment Banking & Asset Management',\n",
       "       'Biotech & Pharmaceuticals', 'Staffing & Outsourcing',\n",
       "       'Food & Beverage Stores', 'Internet', 'Video Games',\n",
       "       'Other Retail Stores', 'General Merchandise & Superstores',\n",
       "       'Airlines', 'Insurance Carriers',\n",
       "       'Financial Transaction Processing', 'Consulting',\n",
       "       'Computer Hardware & Software', 'Federal Agencies', 'Energy',\n",
       "       'Hotels, Motels, & Resorts', 'Logistics & Supply Chain',\n",
       "       'Oil & Gas Exploration & Production',\n",
       "       'Consumer Products Manufacturing', 'Banks & Credit Unions',\n",
       "       'Research & Development', 'Advertising & Marketing',\n",
       "       'Health Care Services & Hospitals', 'Telecommunications Services',\n",
       "       'Architectural & Engineering Services', 'Drug & Health Stores',\n",
       "       'Aerospace & Defense', 'Electrical & Electronic Manufacturing',\n",
       "       'Lending', 'Industrial Manufacturing', 'Publishing',\n",
       "       'Social Assistance', 'Health Care Products Manufacturing',\n",
       "       'Construction', 'Department, Clothing, & Shoe Stores',\n",
       "       'Colleges & Universities', 'Education Training Services',\n",
       "       'TV Broadcast & Cable Networks', 'Legal',\n",
       "       'Insurance Agencies & Brokerages', 'Food Production',\n",
       "       'Transportation Equipment Manufacturing', 'Accounting',\n",
       "       'Commercial Equipment Repair & Maintenance',\n",
       "       'Miscellaneous Manufacturing', 'Building & Personnel Services',\n",
       "       'Cable, Internet & Telephone Providers', 'Gambling',\n",
       "       'Financial Analytics & Research', 'K-12 Education',\n",
       "       'Grocery Stores & Supermarkets', 'State & Regional Agencies',\n",
       "       'Transportation Management', 'Food & Beverage Manufacturing',\n",
       "       'Security Services'], dtype=object)"
      ]
     },
     "execution_count": 242,
     "metadata": {},
     "output_type": "execute_result"
    }
   ],
   "source": [
    "df['Industry'].unique()"
   ]
  },
  {
   "cell_type": "code",
   "execution_count": 243,
   "metadata": {},
   "outputs": [],
   "source": [
    "def industry_simplifier(typ):\n",
    "    typ = typ.lower()\n",
    "    if 'IT' in typ or 'software' in typ or 'games' in typ: return 'inforamtion tech'\n",
    "    elif 'banking' in typ or 'financial' in typ or 'insurance' in typ or 'lending' in typ or 'accounting' in typ or 'banks' in typ : return 'finance'\n",
    "    elif 'pharmaceuticals' in typ or 'health' in typ: return 'medical'\n",
    "    elif 'stores' in typ or 'superstores' in typ: return 'retail'\n",
    "    elif 'production' in typ or 'manufacturing' in typ or 'manufacture' in typ: return 'production'\n",
    "    elif 'education' in typ or 'universities' in typ: return 'education'\n",
    "    elif 'hotels' in typ : return 'hospitality'\n",
    "    elif 'cable' in typ or 'internet' in typ or 'advertising' in typ or 'telecommunications' in typ: return 'telecommunication'\n",
    "    elif 'federal' in typ or 'state' in typ or 'securtiy' in typ or 'consulting' or 'social' in typ in typ: return 'public'\n",
    "    else: return 'na'"
   ]
  },
  {
   "cell_type": "code",
   "execution_count": 244,
   "metadata": {},
   "outputs": [],
   "source": [
    "df['sector'] = df['Industry'].apply(industry_simplifier)"
   ]
  },
  {
   "cell_type": "code",
   "execution_count": 245,
   "metadata": {},
   "outputs": [
    {
     "data": {
      "text/plain": [
       "public               329\n",
       "medical              198\n",
       "inforamtion tech     105\n",
       "telecommunication     75\n",
       "finance               62\n",
       "education             41\n",
       "production            35\n",
       "retail                34\n",
       "hospitality            1\n",
       "Name: sector, dtype: int64"
      ]
     },
     "execution_count": 245,
     "metadata": {},
     "output_type": "execute_result"
    }
   ],
   "source": [
    "df['sector'].value_counts()"
   ]
  },
  {
   "cell_type": "markdown",
   "metadata": {},
   "source": [
    "#### 8. Size"
   ]
  },
  {
   "cell_type": "code",
   "execution_count": 246,
   "metadata": {},
   "outputs": [
    {
     "data": {
      "text/plain": [
       "10000+ Employees           279\n",
       "1001 to 5000 Employees     149\n",
       "51 to 200 Employees        122\n",
       "1 to 50 Employees           97\n",
       "-1                          70\n",
       "5001 to 10000 Employees     60\n",
       "201 to 500 Employees        45\n",
       "501 to 1000 Employees       35\n",
       "Unknown                     23\n",
       "Name: Size, dtype: int64"
      ]
     },
     "execution_count": 246,
     "metadata": {},
     "output_type": "execute_result"
    }
   ],
   "source": [
    "df['Size'].value_counts()"
   ]
  },
  {
   "cell_type": "markdown",
   "metadata": {},
   "source": [
    "Filtering the 'Size' feature using fractional imputation"
   ]
  },
  {
   "cell_type": "code",
   "execution_count": 247,
   "metadata": {},
   "outputs": [],
   "source": [
    "def FilterDataset(Feature):\n",
    "    featuredata_list = df[Feature].unique().tolist()\n",
    "    data_count = df[Feature].value_counts().sum()\n",
    "    Null = df[Feature].isnull().sum()\n",
    "    mask_mat = df[Feature].isna()\n",
    "    Frac = 0\n",
    "    for data in featuredata_list:\n",
    "        if Null > 0:\n",
    "            Frac = (len(df[df[Feature] == data])/data_count)\n",
    "            data_count = data_count - len(df[df[Feature] == data])\n",
    "            ind = df[Feature].loc[mask_mat].sample(frac=Frac, replace=True).index\n",
    "            df.loc[ind, Feature] = data\n",
    "            mask_mat = df[Feature].isna()\n",
    "            Null = df[Feature].isnull().sum()\n",
    "    else:print(Feature + \" Sorted\")"
   ]
  },
  {
   "cell_type": "code",
   "execution_count": 248,
   "metadata": {},
   "outputs": [],
   "source": [
    "# replacing -1 and Unknowns with np.nan\n",
    "df['Size'].replace({'-1' : np.nan, 'Unknown':np.nan}, inplace=True)"
   ]
  },
  {
   "cell_type": "code",
   "execution_count": 249,
   "metadata": {},
   "outputs": [
    {
     "data": {
      "text/plain": [
       "93"
      ]
     },
     "execution_count": 249,
     "metadata": {},
     "output_type": "execute_result"
    }
   ],
   "source": [
    "df['Size'].isnull().sum()"
   ]
  },
  {
   "cell_type": "code",
   "execution_count": 252,
   "metadata": {},
   "outputs": [
    {
     "name": "stdout",
     "output_type": "stream",
     "text": [
      "Size Sorted\n"
     ]
    }
   ],
   "source": [
    "FilterDataset('Size')"
   ]
  },
  {
   "cell_type": "code",
   "execution_count": 253,
   "metadata": {},
   "outputs": [
    {
     "data": {
      "text/plain": [
       "10000+ Employees           307\n",
       "1001 to 5000 Employees     165\n",
       "51 to 200 Employees        135\n",
       "1 to 50 Employees          109\n",
       "5001 to 10000 Employees     73\n",
       "201 to 500 Employees        52\n",
       "501 to 1000 Employees       39\n",
       "Name: Size, dtype: int64"
      ]
     },
     "execution_count": 253,
     "metadata": {},
     "output_type": "execute_result"
    }
   ],
   "source": [
    "df['Size'].value_counts()"
   ]
  },
  {
   "cell_type": "code",
   "execution_count": 254,
   "metadata": {},
   "outputs": [
    {
     "name": "stdout",
     "output_type": "stream",
     "text": [
      "10000             307\n",
      "1001 to 5000      165\n",
      "51 to 200         135\n",
      "1 to 50           109\n",
      "5001 to 10000      73\n",
      "201 to 500         52\n",
      "501 to 1000        39\n",
      "Name: Size, dtype: int64\n",
      "0     501\n",
      "1    1001\n",
      "2    1001\n",
      "3      51\n",
      "4      51\n",
      "Name: min_employees, dtype: int64\n",
      "0    1000\n",
      "1    5000\n",
      "2    5000\n",
      "3     200\n",
      "4     200\n",
      "Name: max_employees, dtype: int64\n"
     ]
    }
   ],
   "source": [
    "# sparsing the 'Size'\n",
    "employees = df['Size'].apply(lambda x:x.split(\"+\")[0] if '+' in x else x.split('E')[0])\n",
    "print(employees.value_counts())\n",
    "df['min_employees'] = employees.apply(lambda x: int(x.split('to')[0]))\n",
    "print(df['min_employees'][0:5])\n",
    "df['max_employees'] = employees.apply(lambda x: int(x.split('to')[1]) if 'to' in x else int(x))\n",
    "print(df['max_employees'][0:5])"
   ]
  },
  {
   "cell_type": "code",
   "execution_count": 255,
   "metadata": {},
   "outputs": [
    {
     "name": "stdout",
     "output_type": "stream",
     "text": [
      "0     750.0\n",
      "1    3000.0\n",
      "Name: avg_size, dtype: float64\n"
     ]
    }
   ],
   "source": [
    "# Taking mean/average of min_employees and max_employess\n",
    "df['avg_size'] = round((df['min_employees']+df['max_employees']) / 2 ,0)\n",
    "print(df['avg_size'][0:2])"
   ]
  },
  {
   "cell_type": "markdown",
   "metadata": {},
   "source": [
    "#### 9. Revenue"
   ]
  },
  {
   "cell_type": "code",
   "execution_count": 256,
   "metadata": {},
   "outputs": [
    {
     "name": "stdout",
     "output_type": "stream",
     "text": [
      "Unknown / Non-Applicable            184\n",
      "$10+ billion (USD)                  166\n",
      "Less than $1 million (USD)           97\n",
      "$100 to $500 million (USD)           84\n",
      "-1                                   70\n",
      "$2 to $5 billion (USD)               66\n",
      "$500 million to $1 billion (USD)     50\n",
      "$10 to $25 million (USD)             38\n",
      "$5 to $10 billion (USD)              32\n",
      "$25 to $50 million (USD)             30\n",
      "$50 to $100 million (USD)            26\n",
      "$1 to $2 billion (USD)               25\n",
      "$1 to $5 million (USD)               10\n",
      "$5 to $10 million (USD)               2\n",
      "Name: Revenue, dtype: int64 \n",
      "___________________________________\n",
      "70\n",
      "Revenue Sorted\n",
      "2\n"
     ]
    }
   ],
   "source": [
    "print(df['Revenue'].value_counts(),'\\n___________________________________')\n",
    "# mapping '-1' to np.nan\n",
    "df['Revenue'].replace({'-1':np.nan}, inplace=True)\n",
    "print(df['Revenue'].isnull().sum())\n",
    "# Fractional Impuatation of NaN values\n",
    "FilterDataset('Revenue')\n",
    "print(df['Revenue'].isnull().sum())\n",
    "\n"
   ]
  },
  {
   "cell_type": "markdown",
   "metadata": {},
   "source": [
    "#### 10. Type of ownership"
   ]
  },
  {
   "cell_type": "code",
   "execution_count": 257,
   "metadata": {},
   "outputs": [
    {
     "data": {
      "text/plain": [
       "Company - Private                 392\n",
       "Company - Public                  311\n",
       "-1                                 70\n",
       "College / University               29\n",
       "Subsidiary or Business Segment     28\n",
       "Government                         16\n",
       "Unknown                            14\n",
       "Hospital                            9\n",
       "Nonprofit Organization              6\n",
       "Other Organization                  3\n",
       "Contract                            1\n",
       "Private Practice / Firm             1\n",
       "Name: Type of ownership, dtype: int64"
      ]
     },
     "execution_count": 257,
     "metadata": {},
     "output_type": "execute_result"
    }
   ],
   "source": [
    "df['Type of ownership'].value_counts()"
   ]
  },
  {
   "cell_type": "code",
   "execution_count": 258,
   "metadata": {},
   "outputs": [
    {
     "name": "stdout",
     "output_type": "stream",
     "text": [
      "Private                 393\n",
      "Public                  311\n",
      "Venture                  29\n",
      "College / University     29\n",
      "Organization             23\n",
      "Government               16\n",
      "Hospital                  9\n",
      "Name: Type of ownership, dtype: int64 \n",
      "____________________\n",
      "70\n"
     ]
    }
   ],
   "source": [
    "# mapping -1 to np.nan and others to relevant/common names\n",
    "df['Type of ownership'].replace({'Company - Private':'Private', 'Private Practice / Firm':'Private',\n",
    "                                 'Company - Public': 'Public', '-1':np.nan,\n",
    "                                 'Subsidiary or Business Segment':'Venture', 'Contract':'Venture',\n",
    "                                 'Unknown': 'Organization', 'Other Organization':'Organization', 'Nonprofit Organization':'Organization'}, inplace=True)\n",
    "print(df['Type of ownership'].value_counts(),'\\n____________________')\n",
    "print(df['Type of ownership'].isnull().sum())"
   ]
  },
  {
   "cell_type": "code",
   "execution_count": 261,
   "metadata": {},
   "outputs": [
    {
     "name": "stdout",
     "output_type": "stream",
     "text": [
      "Type of ownership Sorted\n"
     ]
    }
   ],
   "source": [
    "# Fractional imputation\n",
    "FilterDataset('Type of ownership')"
   ]
  },
  {
   "cell_type": "code",
   "execution_count": 262,
   "metadata": {},
   "outputs": [
    {
     "name": "stdout",
     "output_type": "stream",
     "text": [
      "0 \n",
      "___________________________\n",
      "Private                 424\n",
      "Public                  331\n",
      "College / University     33\n",
      "Venture                  32\n",
      "Organization             28\n",
      "Government               20\n",
      "Hospital                 12\n",
      "Name: Type of ownership, dtype: int64\n"
     ]
    }
   ],
   "source": [
    "print(df['Type of ownership'].isnull().sum(),'\\n___________________________')\n",
    "print(df['Type of ownership'].value_counts())"
   ]
  },
  {
   "cell_type": "code",
   "execution_count": 263,
   "metadata": {},
   "outputs": [
    {
     "data": {
      "text/plain": [
       "Index(['Job Title', 'Salary Estimate', 'Job Description', 'Rating',\n",
       "       'Company Name', 'Location', 'Size', 'Founded', 'Type of ownership',\n",
       "       'Industry', 'Sector', 'Revenue', 'min_salary', 'max_salary',\n",
       "       'avg_salary', 'python', 'sql', 'r_studio', 'spark', 'aws', 'excel',\n",
       "       'description_len', 'age', 'job_title', 'seniority', 'sector',\n",
       "       'min_employees', 'max_employees', 'avg_size'],\n",
       "      dtype='object')"
      ]
     },
     "execution_count": 263,
     "metadata": {},
     "output_type": "execute_result"
    }
   ],
   "source": [
    "df.columns"
   ]
  },
  {
   "cell_type": "code",
   "execution_count": 264,
   "metadata": {},
   "outputs": [],
   "source": [
    "final_df = df"
   ]
  },
  {
   "cell_type": "code",
   "execution_count": 266,
   "metadata": {},
   "outputs": [
    {
     "data": {
      "text/plain": [
       "Index(['Rating', 'Company Name', 'Type of ownership', 'Sector', 'Revenue',\n",
       "       'min_salary', 'max_salary', 'avg_salary', 'python', 'sql', 'r_studio',\n",
       "       'spark', 'aws', 'excel', 'description_len', 'age', 'job_title',\n",
       "       'seniority', 'sector', 'min_employees', 'max_employees', 'avg_size'],\n",
       "      dtype='object')"
      ]
     },
     "execution_count": 266,
     "metadata": {},
     "output_type": "execute_result"
    }
   ],
   "source": [
    "final_df.drop(['Job Title','Salary Estimate', 'Job Description','Size', 'Founded', 'Location','Industry'], axis=1, inplace=True)\n",
    "final_df.columns"
   ]
  },
  {
   "cell_type": "code",
   "execution_count": null,
   "metadata": {},
   "outputs": [],
   "source": []
  }
 ],
 "metadata": {
  "kernelspec": {
   "display_name": "Python 3",
   "language": "python",
   "name": "python3"
  },
  "language_info": {
   "codemirror_mode": {
    "name": "ipython",
    "version": 3
   },
   "file_extension": ".py",
   "mimetype": "text/x-python",
   "name": "python",
   "nbconvert_exporter": "python",
   "pygments_lexer": "ipython3",
   "version": "3.6.0"
  }
 },
 "nbformat": 4,
 "nbformat_minor": 4
}
