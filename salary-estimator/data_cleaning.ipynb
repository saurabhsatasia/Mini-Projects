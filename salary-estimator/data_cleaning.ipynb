{
 "cells": [
  {
   "cell_type": "code",
   "execution_count": 105,
   "metadata": {},
   "outputs": [],
   "source": [
    "import pandas as pd"
   ]
  },
  {
   "cell_type": "code",
   "execution_count": 106,
   "metadata": {},
   "outputs": [
    {
     "data": {
      "text/html": [
       "<div>\n",
       "<style scoped>\n",
       "    .dataframe tbody tr th:only-of-type {\n",
       "        vertical-align: middle;\n",
       "    }\n",
       "\n",
       "    .dataframe tbody tr th {\n",
       "        vertical-align: top;\n",
       "    }\n",
       "\n",
       "    .dataframe thead th {\n",
       "        text-align: right;\n",
       "    }\n",
       "</style>\n",
       "<table border=\"1\" class=\"dataframe\">\n",
       "  <thead>\n",
       "    <tr style=\"text-align: right;\">\n",
       "      <th></th>\n",
       "      <th>Job Title</th>\n",
       "      <th>Salary Estimate</th>\n",
       "      <th>Job Description</th>\n",
       "      <th>Rating</th>\n",
       "      <th>Company Name</th>\n",
       "      <th>Location</th>\n",
       "      <th>Headquarters</th>\n",
       "      <th>Size</th>\n",
       "      <th>Founded</th>\n",
       "      <th>Type of ownership</th>\n",
       "      <th>Industry</th>\n",
       "      <th>Sector</th>\n",
       "      <th>Revenue</th>\n",
       "      <th>Competitors</th>\n",
       "    </tr>\n",
       "  </thead>\n",
       "  <tbody>\n",
       "    <tr>\n",
       "      <th>0</th>\n",
       "      <td>Data Science</td>\n",
       "      <td>£24K - £38K (Glassdoor est.)</td>\n",
       "      <td>Love using technology to solve complex problem...</td>\n",
       "      <td>4.1</td>\n",
       "      <td>MThree Consulting\\n4.1</td>\n",
       "      <td>London, England</td>\n",
       "      <td>-1</td>\n",
       "      <td>501 to 1000 Employees</td>\n",
       "      <td>2010</td>\n",
       "      <td>Company - Private</td>\n",
       "      <td>IT Services</td>\n",
       "      <td>Information Technology</td>\n",
       "      <td>Unknown / Non-Applicable</td>\n",
       "      <td>-1</td>\n",
       "    </tr>\n",
       "    <tr>\n",
       "      <th>1</th>\n",
       "      <td>Data Science Graduate Scheme</td>\n",
       "      <td>£24K - £38K (Glassdoor est.)</td>\n",
       "      <td>Salary and Benefits: £24,500 + pension + 25 da...</td>\n",
       "      <td>3.6</td>\n",
       "      <td>Yorkshire Water\\n3.6</td>\n",
       "      <td>Bradford, Yorkshire and the Humber, England</td>\n",
       "      <td>-1</td>\n",
       "      <td>1001 to 5000 Employees</td>\n",
       "      <td>1973</td>\n",
       "      <td>Company - Private</td>\n",
       "      <td>Utilities</td>\n",
       "      <td>Oil, Gas, Energy &amp; Utilities</td>\n",
       "      <td>$500 million to $1 billion (USD)</td>\n",
       "      <td>-1</td>\n",
       "    </tr>\n",
       "    <tr>\n",
       "      <th>2</th>\n",
       "      <td>Data Engineer</td>\n",
       "      <td>£24K - £38K (Glassdoor est.)</td>\n",
       "      <td>Job Description\\n\\nData Engineer\\n\\nAt Citadel...</td>\n",
       "      <td>4.3</td>\n",
       "      <td>Citadel\\n4.3</td>\n",
       "      <td>London, England</td>\n",
       "      <td>-1</td>\n",
       "      <td>1001 to 5000 Employees</td>\n",
       "      <td>1990</td>\n",
       "      <td>Company - Private</td>\n",
       "      <td>-1</td>\n",
       "      <td>-1</td>\n",
       "      <td>$50 to $100 million (USD)</td>\n",
       "      <td>-1</td>\n",
       "    </tr>\n",
       "    <tr>\n",
       "      <th>3</th>\n",
       "      <td>Data Scientist (Investigations)</td>\n",
       "      <td>£24K - £38K (Glassdoor est.)</td>\n",
       "      <td>Who are we?\\n\\nHi! �� We are Ravelin! We're a ...</td>\n",
       "      <td>4.8</td>\n",
       "      <td>Ravelin\\n4.8</td>\n",
       "      <td>London, England</td>\n",
       "      <td>-1</td>\n",
       "      <td>51 to 200 Employees</td>\n",
       "      <td>2014</td>\n",
       "      <td>Company - Private</td>\n",
       "      <td>Enterprise Software &amp; Network Solutions</td>\n",
       "      <td>Information Technology</td>\n",
       "      <td>$5 to $10 million (USD)</td>\n",
       "      <td>-1</td>\n",
       "    </tr>\n",
       "    <tr>\n",
       "      <th>4</th>\n",
       "      <td>Data/Marketing Analyst</td>\n",
       "      <td>£24K - £38K (Glassdoor est.)</td>\n",
       "      <td>Data / Marketing Analyst\\n\\nThe Marketing team...</td>\n",
       "      <td>4.6</td>\n",
       "      <td>gohenry Ltd\\n4.6</td>\n",
       "      <td>London, England</td>\n",
       "      <td>-1</td>\n",
       "      <td>51 to 200 Employees</td>\n",
       "      <td>2012</td>\n",
       "      <td>Company - Private</td>\n",
       "      <td>Investment Banking &amp; Asset Management</td>\n",
       "      <td>Finance</td>\n",
       "      <td>$10 to $25 million (USD)</td>\n",
       "      <td>-1</td>\n",
       "    </tr>\n",
       "  </tbody>\n",
       "</table>\n",
       "</div>"
      ],
      "text/plain": [
       "                         Job Title               Salary Estimate  \\\n",
       "0                     Data Science  £24K - £38K (Glassdoor est.)   \n",
       "1     Data Science Graduate Scheme  £24K - £38K (Glassdoor est.)   \n",
       "2                    Data Engineer  £24K - £38K (Glassdoor est.)   \n",
       "3  Data Scientist (Investigations)  £24K - £38K (Glassdoor est.)   \n",
       "4           Data/Marketing Analyst  £24K - £38K (Glassdoor est.)   \n",
       "\n",
       "                                     Job Description  Rating  \\\n",
       "0  Love using technology to solve complex problem...     4.1   \n",
       "1  Salary and Benefits: £24,500 + pension + 25 da...     3.6   \n",
       "2  Job Description\\n\\nData Engineer\\n\\nAt Citadel...     4.3   \n",
       "3  Who are we?\\n\\nHi! �� We are Ravelin! We're a ...     4.8   \n",
       "4  Data / Marketing Analyst\\n\\nThe Marketing team...     4.6   \n",
       "\n",
       "             Company Name                                     Location  \\\n",
       "0  MThree Consulting\\n4.1                              London, England   \n",
       "1    Yorkshire Water\\n3.6  Bradford, Yorkshire and the Humber, England   \n",
       "2            Citadel\\n4.3                              London, England   \n",
       "3            Ravelin\\n4.8                              London, England   \n",
       "4        gohenry Ltd\\n4.6                              London, England   \n",
       "\n",
       "   Headquarters                    Size  Founded  Type of ownership  \\\n",
       "0            -1   501 to 1000 Employees     2010  Company - Private   \n",
       "1            -1  1001 to 5000 Employees     1973  Company - Private   \n",
       "2            -1  1001 to 5000 Employees     1990  Company - Private   \n",
       "3            -1     51 to 200 Employees     2014  Company - Private   \n",
       "4            -1     51 to 200 Employees     2012  Company - Private   \n",
       "\n",
       "                                  Industry                        Sector  \\\n",
       "0                              IT Services        Information Technology   \n",
       "1                                Utilities  Oil, Gas, Energy & Utilities   \n",
       "2                                       -1                            -1   \n",
       "3  Enterprise Software & Network Solutions        Information Technology   \n",
       "4    Investment Banking & Asset Management                       Finance   \n",
       "\n",
       "                            Revenue  Competitors  \n",
       "0          Unknown / Non-Applicable           -1  \n",
       "1  $500 million to $1 billion (USD)           -1  \n",
       "2         $50 to $100 million (USD)           -1  \n",
       "3           $5 to $10 million (USD)           -1  \n",
       "4          $10 to $25 million (USD)           -1  "
      ]
     },
     "execution_count": 106,
     "metadata": {},
     "output_type": "execute_result"
    }
   ],
   "source": [
    "df = pd.read_csv(\"scrapper/UK_raw_data.csv\")\n",
    "df.head()"
   ]
  },
  {
   "cell_type": "code",
   "execution_count": 107,
   "metadata": {},
   "outputs": [],
   "source": [
    "df.shape\n",
    "df.drop_duplicates(inplace=True)"
   ]
  },
  {
   "cell_type": "code",
   "execution_count": 108,
   "metadata": {},
   "outputs": [
    {
     "name": "stdout",
     "output_type": "stream",
     "text": [
      "<class 'pandas.core.frame.DataFrame'>\n",
      "Int64Index: 880 entries, 0 to 932\n",
      "Data columns (total 14 columns):\n",
      "Job Title            880 non-null object\n",
      "Salary Estimate      880 non-null object\n",
      "Job Description      880 non-null object\n",
      "Rating               880 non-null float64\n",
      "Company Name         880 non-null object\n",
      "Location             880 non-null object\n",
      "Headquarters         880 non-null int64\n",
      "Size                 880 non-null object\n",
      "Founded              880 non-null int64\n",
      "Type of ownership    880 non-null object\n",
      "Industry             880 non-null object\n",
      "Sector               880 non-null object\n",
      "Revenue              880 non-null object\n",
      "Competitors          880 non-null int64\n",
      "dtypes: float64(1), int64(3), object(10)\n",
      "memory usage: 103.1+ KB\n"
     ]
    }
   ],
   "source": [
    "df.info()"
   ]
  },
  {
   "cell_type": "markdown",
   "metadata": {},
   "source": [
    "#### 1. Salary Estimate Parsing"
   ]
  },
  {
   "cell_type": "code",
   "execution_count": 109,
   "metadata": {},
   "outputs": [
    {
     "name": "stdout",
     "output_type": "stream",
     "text": [
      "£24K - £38K \n",
      "24 - 38 \n"
     ]
    }
   ],
   "source": [
    "# df['hourly'] = df['Salary Estimate'].apply(lambda x : 1 if 'per hour' in x.lower() else 0)\n",
    "# df['hourly'].value_counts() --> NO Hourly Salaries in this dateset\n",
    "# df['employer provided'] = df['Salary Estimate'].apply(lambda x: 1 if 'employer provided salary:' in x.lower() else 0)\n",
    "# df['employer provided']. value_counts() --> NO such data\n",
    "\n",
    "df = df[df['Salary Estimate'] != '-1'] \n",
    "salary = df['Salary Estimate'].apply(lambda x:x.split(\"(\")[0])\n",
    "remove_symbols = salary.apply(lambda x: x.replace('K','').replace('£',''))\n",
    "print(salary[0])\n",
    "print(remove_symbols[0])"
   ]
  },
  {
   "cell_type": "code",
   "execution_count": 110,
   "metadata": {},
   "outputs": [
    {
     "name": "stdout",
     "output_type": "stream",
     "text": [
      "24\n",
      "38\n"
     ]
    }
   ],
   "source": [
    "df['min_salary'] = remove_symbols.apply(lambda x: int(x.split('-')[0]))\n",
    "print(df['min_salary'][0])\n",
    "df['max_salary'] = remove_symbols.apply(lambda x: int(x.split('-')[1]))\n",
    "print(df['max_salary'][0])\n",
    "df['avg_salary'] = (df['min_salary'] + df['max_salary']) / 2"
   ]
  },
  {
   "cell_type": "markdown",
   "metadata": {},
   "source": [
    "#### 2. Company Name"
   ]
  },
  {
   "cell_type": "code",
   "execution_count": 111,
   "metadata": {},
   "outputs": [
    {
     "name": "stdout",
     "output_type": "stream",
     "text": [
      "0    MThree Consulting\n",
      "1      Yorkshire Water\n",
      "Name: Company Name, dtype: object\n"
     ]
    }
   ],
   "source": [
    "df['Company Name'] = df.apply(lambda x: x['Company Name'] if x['Rating']<0 else x['Company Name'].split('\\n')[0], axis=1)\n",
    "print(df['Company Name'][0:2])"
   ]
  },
  {
   "cell_type": "code",
   "execution_count": 112,
   "metadata": {},
   "outputs": [],
   "source": [
    "df.drop(['Headquarters', 'Competitors'], axis=1, inplace=True)"
   ]
  },
  {
   "cell_type": "code",
   "execution_count": 113,
   "metadata": {},
   "outputs": [
    {
     "data": {
      "text/html": [
       "<div>\n",
       "<style scoped>\n",
       "    .dataframe tbody tr th:only-of-type {\n",
       "        vertical-align: middle;\n",
       "    }\n",
       "\n",
       "    .dataframe tbody tr th {\n",
       "        vertical-align: top;\n",
       "    }\n",
       "\n",
       "    .dataframe thead th {\n",
       "        text-align: right;\n",
       "    }\n",
       "</style>\n",
       "<table border=\"1\" class=\"dataframe\">\n",
       "  <thead>\n",
       "    <tr style=\"text-align: right;\">\n",
       "      <th></th>\n",
       "      <th>Job Title</th>\n",
       "      <th>Salary Estimate</th>\n",
       "      <th>Job Description</th>\n",
       "      <th>Rating</th>\n",
       "      <th>Company Name</th>\n",
       "      <th>Location</th>\n",
       "      <th>Size</th>\n",
       "      <th>Founded</th>\n",
       "      <th>Type of ownership</th>\n",
       "      <th>Industry</th>\n",
       "      <th>Sector</th>\n",
       "      <th>Revenue</th>\n",
       "      <th>min_salary</th>\n",
       "      <th>max_salary</th>\n",
       "      <th>avg_salary</th>\n",
       "    </tr>\n",
       "  </thead>\n",
       "  <tbody>\n",
       "    <tr>\n",
       "      <th>0</th>\n",
       "      <td>Data Science</td>\n",
       "      <td>£24K - £38K (Glassdoor est.)</td>\n",
       "      <td>Love using technology to solve complex problem...</td>\n",
       "      <td>4.1</td>\n",
       "      <td>MThree Consulting</td>\n",
       "      <td>London, England</td>\n",
       "      <td>501 to 1000 Employees</td>\n",
       "      <td>2010</td>\n",
       "      <td>Company - Private</td>\n",
       "      <td>IT Services</td>\n",
       "      <td>Information Technology</td>\n",
       "      <td>Unknown / Non-Applicable</td>\n",
       "      <td>24</td>\n",
       "      <td>38</td>\n",
       "      <td>31.0</td>\n",
       "    </tr>\n",
       "  </tbody>\n",
       "</table>\n",
       "</div>"
      ],
      "text/plain": [
       "      Job Title               Salary Estimate  \\\n",
       "0  Data Science  £24K - £38K (Glassdoor est.)   \n",
       "\n",
       "                                     Job Description  Rating  \\\n",
       "0  Love using technology to solve complex problem...     4.1   \n",
       "\n",
       "        Company Name         Location                   Size  Founded  \\\n",
       "0  MThree Consulting  London, England  501 to 1000 Employees     2010   \n",
       "\n",
       "   Type of ownership     Industry                  Sector  \\\n",
       "0  Company - Private  IT Services  Information Technology   \n",
       "\n",
       "                    Revenue  min_salary  max_salary  avg_salary  \n",
       "0  Unknown / Non-Applicable          24          38        31.0  "
      ]
     },
     "execution_count": 113,
     "metadata": {},
     "output_type": "execute_result"
    }
   ],
   "source": [
    "df.head(1)"
   ]
  },
  {
   "cell_type": "markdown",
   "metadata": {},
   "source": [
    "#### 3. Job Description"
   ]
  },
  {
   "cell_type": "code",
   "execution_count": 114,
   "metadata": {},
   "outputs": [
    {
     "name": "stdout",
     "output_type": "stream",
     "text": [
      "0    693\n",
      "1    187\n",
      "Name: python, dtype: int64\n",
      "0    694\n",
      "1    186\n",
      "Name: sql, dtype: int64\n",
      "0    879\n",
      "1      1\n",
      "Name: r_studio, dtype: int64\n",
      "0    839\n",
      "1     41\n",
      "Name: spark, dtype: int64\n",
      "0    790\n",
      "1     90\n",
      "Name: aws, dtype: int64\n"
     ]
    },
    {
     "data": {
      "text/plain": [
       "1    548\n",
       "0    332\n",
       "Name: excel, dtype: int64"
      ]
     },
     "execution_count": 114,
     "metadata": {},
     "output_type": "execute_result"
    }
   ],
   "source": [
    "df['python'] = df['Job Description'].apply(lambda x: 1 if 'python' in x.lower() else 0)\n",
    "print(df['python'].value_counts())\n",
    "\n",
    "df['sql'] = df['Job Description'].apply(lambda x: 1 if 'sql' in x.lower() else 0)\n",
    "print(df['sql'].value_counts())\n",
    "\n",
    "df['r_studio'] = df['Job Description'].apply(lambda x: 1 if 'r studio' in x.lower() or 'r-studio' in x.lower() else 0)\n",
    "print(df['r_studio'].value_counts())\n",
    "\n",
    "df['spark'] = df['Job Description'].apply(lambda x: 1 if 'spark' in x.lower() else 0)\n",
    "print(df['spark'].value_counts())\n",
    "\n",
    "df['aws'] = df['Job Description'].apply(lambda x: 1 if 'aws' in x.lower() else 0)\n",
    "print(df['aws'].value_counts())\n",
    "\n",
    "df['excel'] = df['Job Description'].apply(lambda x: 1 if 'excel' in x.lower() else 0)\n",
    "df.excel.value_counts()"
   ]
  },
  {
   "cell_type": "markdown",
   "metadata": {},
   "source": [
    "#### 4. Founded --> age"
   ]
  },
  {
   "cell_type": "code",
   "execution_count": 115,
   "metadata": {},
   "outputs": [
    {
     "data": {
      "text/plain": [
       "0    11\n",
       "1    48\n",
       "2    31\n",
       "3     7\n",
       "4     9\n",
       "Name: age, dtype: int64"
      ]
     },
     "execution_count": 115,
     "metadata": {},
     "output_type": "execute_result"
    }
   ],
   "source": [
    "df['age'] = df['Founded'].apply(lambda x: x if x<1 else 2021-x)\n",
    "df['age'][0:5]"
   ]
  },
  {
   "cell_type": "markdown",
   "metadata": {},
   "source": [
    "#### 5. Size --> employees"
   ]
  },
  {
   "cell_type": "code",
   "execution_count": 116,
   "metadata": {},
   "outputs": [
    {
     "data": {
      "text/plain": [
       "10000+ Employees           279\n",
       "1001 to 5000 Employees     149\n",
       "51 to 200 Employees        122\n",
       "1 to 50 Employees           97\n",
       "-1                          70\n",
       "5001 to 10000 Employees     60\n",
       "201 to 500 Employees        45\n",
       "501 to 1000 Employees       35\n",
       "Unknown                     23\n",
       "Name: Size, dtype: int64"
      ]
     },
     "execution_count": 116,
     "metadata": {},
     "output_type": "execute_result"
    }
   ],
   "source": [
    "df['Size'].value_counts()"
   ]
  },
  {
   "cell_type": "markdown",
   "metadata": {},
   "source": [
    "#### 6. Job Title"
   ]
  },
  {
   "cell_type": "code",
   "execution_count": 119,
   "metadata": {},
   "outputs": [],
   "source": [
    "def title_simplifier(title):\n",
    "    if 'data scientist' in title.lower(): return 'data scientist'\n",
    "    elif 'data engineer' in title.lower(): return 'data engineer'\n",
    "    elif 'analyst' in title.lower(): return 'analyst'\n",
    "    elif 'machine learning' in title.lower(): return 'mle'\n",
    "    elif 'manager' in title.lower(): return 'manager'\n",
    "    elif 'director' in title.lower(): return 'director'\n",
    "    elif 'consultant' in title.lower(): return 'consultant'\n",
    "    elif 'researcher' in title.lower(): return 'ai researcher'\n",
    "    else: return 'na'\n",
    "\n",
    "def seniority(title):\n",
    "    if 'sr' in title.lower() or 'senior' in title.lower() or 'sr' in title.lower() or 'lead' in title.lower() or 'principal' in title.lower():\n",
    "        return 'senior'\n",
    "    elif 'jr' in title.lower() or 'jr.' in title.lower() or 'junior' in title.lower():\n",
    "        return 'junior'\n",
    "    else:\n",
    "        return 'na'\n",
    "    "
   ]
  },
  {
   "cell_type": "code",
   "execution_count": 120,
   "metadata": {},
   "outputs": [
    {
     "name": "stdout",
     "output_type": "stream",
     "text": [
      "na                425\n",
      "manager           172\n",
      "director           88\n",
      "analyst            82\n",
      "data scientist     59\n",
      "ai researcher      22\n",
      "consultant         19\n",
      "data engineer      12\n",
      "mle                 1\n",
      "Name: job_title, dtype: int64\n",
      "na        676\n",
      "senior    204\n",
      "Name: seniority, dtype: int64\n"
     ]
    }
   ],
   "source": [
    "df['job_title'] = df['Job Title'].apply(title_simplifier)\n",
    "print(df['job_title'].value_counts())\n",
    "\n",
    "df['seniority'] = df['Job Title'].apply(seniority)\n",
    "print(df['seniority'].value_counts())"
   ]
  },
  {
   "cell_type": "code",
   "execution_count": null,
   "metadata": {},
   "outputs": [],
   "source": []
  }
 ],
 "metadata": {
  "kernelspec": {
   "display_name": "Python 3",
   "language": "python",
   "name": "python3"
  },
  "language_info": {
   "codemirror_mode": {
    "name": "ipython",
    "version": 3
   },
   "file_extension": ".py",
   "mimetype": "text/x-python",
   "name": "python",
   "nbconvert_exporter": "python",
   "pygments_lexer": "ipython3",
   "version": "3.6.0"
  }
 },
 "nbformat": 4,
 "nbformat_minor": 4
}
